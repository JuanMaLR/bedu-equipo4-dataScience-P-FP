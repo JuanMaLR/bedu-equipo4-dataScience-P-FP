{
  "nbformat": 4,
  "nbformat_minor": 0,
  "metadata": {
    "colab": {
      "provenance": [],
      "authorship_tag": "ABX9TyM4feSzB0PnFlDo00aysbVx",
      "include_colab_link": true
    },
    "kernelspec": {
      "name": "python3",
      "display_name": "Python 3"
    },
    "language_info": {
      "name": "python"
    }
  },
  "cells": [
    {
      "cell_type": "markdown",
      "metadata": {
        "id": "view-in-github",
        "colab_type": "text"
      },
      "source": [
        "<a href=\"https://colab.research.google.com/github/JuanMaLR/bedu-equipo4-dataScience-P-FP/blob/main/FinalProject.ipynb\" target=\"_parent\"><img src=\"https://colab.research.google.com/assets/colab-badge.svg\" alt=\"Open In Colab\"/></a>"
      ]
    },
    {
      "cell_type": "markdown",
      "source": [
        "#Identificación de un problema - Postwork 1\n",
        "\n",
        "\n",
        "##Identificación de un problema\n",
        "\n",
        "\n",
        "##Investigación\n",
        "\n",
        "\n",
        "##Búsqueda de soluciones anteriores\n",
        "\n",
        "\n",
        "#Planteamiento de Preguntas  - Postwork 2\n",
        "\n",
        "\n",
        "#Colección de Datos/Uso de APIs  - Postwork 3 y 6\n",
        "\n",
        "\n",
        "#Análisis exploratorio de datos - Postwork 4\n",
        "\n",
        "*   ¿El conjunto de datos que tengo realmente me sirve para responder algunas de las preguntas que me planteé?\n",
        "*   ¿Qué tamaño tiene mi conjunto de datos? ¿Serán datos suficientes?\n",
        "*   ¿Qué columnas tengo y qué información tengo en cada una de esas columnas?\n",
        "*   Los nombres que tienen mis columnas, ¿son el nombre más apropiado?\n",
        "*   ¿Qué tipos de datos tengo en cada columna? ¿Parecen ser el tipo correcto de datos? ¿O es un tipo de datos \"incorrecto\"?\n",
        "*   Si selecciono algunas filas al azar y las observo, ¿estoy obteniendo los datos que debería? ¿o hay datos que parecen estar \"sucios\" o \"incorrectos\"?\n",
        "\n",
        "\n",
        "\n",
        "\n",
        "#Limpieza del DataFrame - Postwork 5\n",
        "\n",
        "*   Explora tu dataset con el fin de encontrar los NaNs que contiene. Piensa en la distribución de NaNs por columna y por fila.\n",
        "*   Piensa cuáles son los procedimientos que puedes aplicar a tus NaNs. ¿Tenemos que eliminar las filas/columnas que tienen esos NaNs? ¿O podríamos rellenar esos NaNs con algún valor de manera que podamos retener esas filas/columnas?\n",
        "*   Limpia tu dataset de manera que no quede ningún NaN.\n",
        "*   Reindexa tu dataset si lo consideras necesario.\n",
        "*   Renombra tus columnas si lo consideras necesario.\n",
        "*   Prueba aplicar agregaciones a tu DataFrame para ver si puedes empezar a responder algunas de las preguntas que te planteaste anteriormente.\n",
        "\n",
        "#Procesamiento de datos  - Postwork 7\n",
        "\n",
        "*   Checa que todos tus datos tengan el tipo de dato correcto. Si no es así, usa casting para convertir tus datos al tipo de dato correcto (recuerda que tipos de dato como datetime64 se guardan como strings cuando están en archivos .csv, así que tendrás que convertirlos al tipo de dato apropiado cada vez que importes tu archivo.)\n",
        "*   Si tienes columnas de texto, asegúrate de que todas tengan el formato correcto. Si no es así, utiliza las técnicas de manipulación de strings para darles el formato que necesitas.\n",
        "*   Si consideras que alguna de tus columnas sería más clara si los datos tuvieran otro formato o representación usa map para transformar los datos de esa columna.\n",
        "*   Si crees que es posible generar nuevas columnas útiles a partir de las columnas que ya tienes, usa apply para generar nuevos datos a partir de los que tienes y añádelos a tu dataset.\n",
        "*   Con el fin de responder algunas de las preguntas que te planteaste acerca de tu dataset, usa filtros y sorting para crear nuevos subconjuntos y reordenamientos que sean más adecuados para responder tus preguntas. \n",
        "\n",
        "#Planes a futuro  - Postwork 8"
      ],
      "metadata": {
        "id": "m2KGyGRsFYZL"
      }
    },
    {
      "cell_type": "code",
      "execution_count": null,
      "metadata": {
        "id": "pWMPecFOD-p3"
      },
      "outputs": [],
      "source": []
    }
  ]
}